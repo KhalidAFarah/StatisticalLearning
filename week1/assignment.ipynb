{
 "cells": [
  {
   "cell_type": "markdown",
   "metadata": {},
   "source": [
    "Imports dataset"
   ]
  },
  {
   "cell_type": "code",
   "execution_count": 1,
   "metadata": {},
   "outputs": [],
   "source": [
    "import pandas as pd"
   ]
  },
  {
   "cell_type": "code",
   "execution_count": 2,
   "metadata": {},
   "outputs": [],
   "source": [
    "dataset = pd.read_table(\"Participant0002.tsv\")"
   ]
  },
  {
   "cell_type": "markdown",
   "metadata": {},
   "source": [
    "View dataset"
   ]
  },
  {
   "cell_type": "code",
   "execution_count": 3,
   "metadata": {},
   "outputs": [
    {
     "data": {
      "text/html": [
       "<div>\n",
       "<style scoped>\n",
       "    .dataframe tbody tr th:only-of-type {\n",
       "        vertical-align: middle;\n",
       "    }\n",
       "\n",
       "    .dataframe tbody tr th {\n",
       "        vertical-align: top;\n",
       "    }\n",
       "\n",
       "    .dataframe thead th {\n",
       "        text-align: right;\n",
       "    }\n",
       "</style>\n",
       "<table border=\"1\" class=\"dataframe\">\n",
       "  <thead>\n",
       "    <tr style=\"text-align: right;\">\n",
       "      <th></th>\n",
       "      <th>Recording timestamp</th>\n",
       "      <th>Computer timestamp</th>\n",
       "      <th>Sensor</th>\n",
       "      <th>Project name</th>\n",
       "      <th>Export date</th>\n",
       "      <th>Participant name</th>\n",
       "      <th>Recording name</th>\n",
       "      <th>Recording date</th>\n",
       "      <th>Recording date UTC</th>\n",
       "      <th>Recording start time</th>\n",
       "      <th>...</th>\n",
       "      <th>Client area position X (DACSpx)</th>\n",
       "      <th>Client area position Y (DACSpx)</th>\n",
       "      <th>Viewport position X</th>\n",
       "      <th>Viewport position Y</th>\n",
       "      <th>Viewport width</th>\n",
       "      <th>Viewport height</th>\n",
       "      <th>Full page width</th>\n",
       "      <th>Full page height</th>\n",
       "      <th>Mouse position X</th>\n",
       "      <th>Mouse position Y</th>\n",
       "    </tr>\n",
       "  </thead>\n",
       "  <tbody>\n",
       "    <tr>\n",
       "      <th>0</th>\n",
       "      <td>0</td>\n",
       "      <td>514974084171</td>\n",
       "      <td>NaN</td>\n",
       "      <td>Control group experiment</td>\n",
       "      <td>30.09.2020</td>\n",
       "      <td>Participant0002</td>\n",
       "      <td>Recording1</td>\n",
       "      <td>30.09.2020</td>\n",
       "      <td>30.09.2020</td>\n",
       "      <td>14:51:08.470</td>\n",
       "      <td>...</td>\n",
       "      <td>NaN</td>\n",
       "      <td>NaN</td>\n",
       "      <td>NaN</td>\n",
       "      <td>NaN</td>\n",
       "      <td>NaN</td>\n",
       "      <td>NaN</td>\n",
       "      <td>NaN</td>\n",
       "      <td>NaN</td>\n",
       "      <td>NaN</td>\n",
       "      <td>NaN</td>\n",
       "    </tr>\n",
       "    <tr>\n",
       "      <th>1</th>\n",
       "      <td>126524</td>\n",
       "      <td>514974210695</td>\n",
       "      <td>Eye Tracker</td>\n",
       "      <td>Control group experiment</td>\n",
       "      <td>30.09.2020</td>\n",
       "      <td>Participant0002</td>\n",
       "      <td>Recording1</td>\n",
       "      <td>30.09.2020</td>\n",
       "      <td>30.09.2020</td>\n",
       "      <td>14:51:08.470</td>\n",
       "      <td>...</td>\n",
       "      <td>NaN</td>\n",
       "      <td>NaN</td>\n",
       "      <td>NaN</td>\n",
       "      <td>NaN</td>\n",
       "      <td>NaN</td>\n",
       "      <td>NaN</td>\n",
       "      <td>NaN</td>\n",
       "      <td>NaN</td>\n",
       "      <td>NaN</td>\n",
       "      <td>NaN</td>\n",
       "    </tr>\n",
       "    <tr>\n",
       "      <th>2</th>\n",
       "      <td>134831</td>\n",
       "      <td>514974219002</td>\n",
       "      <td>Eye Tracker</td>\n",
       "      <td>Control group experiment</td>\n",
       "      <td>30.09.2020</td>\n",
       "      <td>Participant0002</td>\n",
       "      <td>Recording1</td>\n",
       "      <td>30.09.2020</td>\n",
       "      <td>30.09.2020</td>\n",
       "      <td>14:51:08.470</td>\n",
       "      <td>...</td>\n",
       "      <td>NaN</td>\n",
       "      <td>NaN</td>\n",
       "      <td>NaN</td>\n",
       "      <td>NaN</td>\n",
       "      <td>NaN</td>\n",
       "      <td>NaN</td>\n",
       "      <td>NaN</td>\n",
       "      <td>NaN</td>\n",
       "      <td>NaN</td>\n",
       "      <td>NaN</td>\n",
       "    </tr>\n",
       "    <tr>\n",
       "      <th>3</th>\n",
       "      <td>143133</td>\n",
       "      <td>514974227304</td>\n",
       "      <td>Eye Tracker</td>\n",
       "      <td>Control group experiment</td>\n",
       "      <td>30.09.2020</td>\n",
       "      <td>Participant0002</td>\n",
       "      <td>Recording1</td>\n",
       "      <td>30.09.2020</td>\n",
       "      <td>30.09.2020</td>\n",
       "      <td>14:51:08.470</td>\n",
       "      <td>...</td>\n",
       "      <td>NaN</td>\n",
       "      <td>NaN</td>\n",
       "      <td>NaN</td>\n",
       "      <td>NaN</td>\n",
       "      <td>NaN</td>\n",
       "      <td>NaN</td>\n",
       "      <td>NaN</td>\n",
       "      <td>NaN</td>\n",
       "      <td>NaN</td>\n",
       "      <td>NaN</td>\n",
       "    </tr>\n",
       "    <tr>\n",
       "      <th>4</th>\n",
       "      <td>151500</td>\n",
       "      <td>514974235671</td>\n",
       "      <td>Eye Tracker</td>\n",
       "      <td>Control group experiment</td>\n",
       "      <td>30.09.2020</td>\n",
       "      <td>Participant0002</td>\n",
       "      <td>Recording1</td>\n",
       "      <td>30.09.2020</td>\n",
       "      <td>30.09.2020</td>\n",
       "      <td>14:51:08.470</td>\n",
       "      <td>...</td>\n",
       "      <td>NaN</td>\n",
       "      <td>NaN</td>\n",
       "      <td>NaN</td>\n",
       "      <td>NaN</td>\n",
       "      <td>NaN</td>\n",
       "      <td>NaN</td>\n",
       "      <td>NaN</td>\n",
       "      <td>NaN</td>\n",
       "      <td>NaN</td>\n",
       "      <td>NaN</td>\n",
       "    </tr>\n",
       "  </tbody>\n",
       "</table>\n",
       "<p>5 rows × 96 columns</p>\n",
       "</div>"
      ],
      "text/plain": [
       "   Recording timestamp  Computer timestamp       Sensor  \\\n",
       "0                    0        514974084171          NaN   \n",
       "1               126524        514974210695  Eye Tracker   \n",
       "2               134831        514974219002  Eye Tracker   \n",
       "3               143133        514974227304  Eye Tracker   \n",
       "4               151500        514974235671  Eye Tracker   \n",
       "\n",
       "               Project name Export date Participant name Recording name  \\\n",
       "0  Control group experiment  30.09.2020  Participant0002     Recording1   \n",
       "1  Control group experiment  30.09.2020  Participant0002     Recording1   \n",
       "2  Control group experiment  30.09.2020  Participant0002     Recording1   \n",
       "3  Control group experiment  30.09.2020  Participant0002     Recording1   \n",
       "4  Control group experiment  30.09.2020  Participant0002     Recording1   \n",
       "\n",
       "  Recording date Recording date UTC Recording start time  ...  \\\n",
       "0     30.09.2020         30.09.2020         14:51:08.470  ...   \n",
       "1     30.09.2020         30.09.2020         14:51:08.470  ...   \n",
       "2     30.09.2020         30.09.2020         14:51:08.470  ...   \n",
       "3     30.09.2020         30.09.2020         14:51:08.470  ...   \n",
       "4     30.09.2020         30.09.2020         14:51:08.470  ...   \n",
       "\n",
       "  Client area position X (DACSpx)  Client area position Y (DACSpx)  \\\n",
       "0                             NaN                              NaN   \n",
       "1                             NaN                              NaN   \n",
       "2                             NaN                              NaN   \n",
       "3                             NaN                              NaN   \n",
       "4                             NaN                              NaN   \n",
       "\n",
       "  Viewport position X Viewport position Y Viewport width  Viewport height  \\\n",
       "0                 NaN                 NaN            NaN              NaN   \n",
       "1                 NaN                 NaN            NaN              NaN   \n",
       "2                 NaN                 NaN            NaN              NaN   \n",
       "3                 NaN                 NaN            NaN              NaN   \n",
       "4                 NaN                 NaN            NaN              NaN   \n",
       "\n",
       "   Full page width Full page height  Mouse position X  Mouse position Y  \n",
       "0              NaN              NaN               NaN               NaN  \n",
       "1              NaN              NaN               NaN               NaN  \n",
       "2              NaN              NaN               NaN               NaN  \n",
       "3              NaN              NaN               NaN               NaN  \n",
       "4              NaN              NaN               NaN               NaN  \n",
       "\n",
       "[5 rows x 96 columns]"
      ]
     },
     "execution_count": 3,
     "metadata": {},
     "output_type": "execute_result"
    }
   ],
   "source": [
    "dataset.head()"
   ]
  },
  {
   "cell_type": "code",
   "execution_count": 4,
   "metadata": {},
   "outputs": [
    {
     "data": {
      "text/plain": [
       "(46556, 96)"
      ]
     },
     "execution_count": 4,
     "metadata": {},
     "output_type": "execute_result"
    }
   ],
   "source": [
    "dataset.shape"
   ]
  },
  {
   "cell_type": "code",
   "execution_count": 5,
   "metadata": {},
   "outputs": [
    {
     "data": {
      "text/plain": [
       "Recording timestamp      int64\n",
       "Computer timestamp       int64\n",
       "Sensor                  object\n",
       "Project name            object\n",
       "Export date             object\n",
       "                        ...   \n",
       "Viewport height        float64\n",
       "Full page width        float64\n",
       "Full page height       float64\n",
       "Mouse position X       float64\n",
       "Mouse position Y       float64\n",
       "Length: 96, dtype: object"
      ]
     },
     "execution_count": 5,
     "metadata": {},
     "output_type": "execute_result"
    }
   ],
   "source": [
    "dataset.dtypes"
   ]
  },
  {
   "cell_type": "code",
   "execution_count": 6,
   "metadata": {},
   "outputs": [
    {
     "data": {
      "text/plain": [
       "RangeIndex(start=0, stop=46556, step=1)"
      ]
     },
     "execution_count": 6,
     "metadata": {},
     "output_type": "execute_result"
    }
   ],
   "source": [
    "dataset.index"
   ]
  },
  {
   "cell_type": "code",
   "execution_count": 7,
   "metadata": {},
   "outputs": [
    {
     "data": {
      "text/plain": [
       "Index(['Recording timestamp', 'Computer timestamp', 'Sensor', 'Project name',\n",
       "       'Export date', 'Participant name', 'Recording name', 'Recording date',\n",
       "       'Recording date UTC', 'Recording start time',\n",
       "       'Recording start time UTC', 'Recording duration', 'Timeline name',\n",
       "       'Recording Fixation filter name', 'Recording software version',\n",
       "       'Recording resolution height', 'Recording resolution width',\n",
       "       'Recording monitor latency', 'Average calibration accuracy (mm)',\n",
       "       'Average calibration precision SD (mm)',\n",
       "       'Average calibration precision RMS (mm)',\n",
       "       'Average calibration accuracy (degrees)',\n",
       "       'Average calibration precision SD (degrees)',\n",
       "       'Average calibration precision RMS (degrees)',\n",
       "       'Average calibration accuracy (pixels)',\n",
       "       'Average calibration precision SD (pixels)',\n",
       "       'Average calibration precision RMS (pixels)',\n",
       "       'Average validation accuracy (mm)',\n",
       "       'Average validation precision SD (mm)',\n",
       "       'Average validation precision RMS (mm)',\n",
       "       'Average validation accuracy (degrees)',\n",
       "       'Average validation precision SD (degrees)',\n",
       "       'Average validation precision RMS (degrees)',\n",
       "       'Average validation accuracy (pixels)',\n",
       "       'Average validation precision SD (pixels)',\n",
       "       'Average validation precision RMS (pixels)', 'Eyetracker timestamp',\n",
       "       'Event', 'Event value', 'Gaze point X', 'Gaze point Y',\n",
       "       'Gaze point left X', 'Gaze point left Y', 'Gaze point right X',\n",
       "       'Gaze point right Y', 'Gaze direction left X', 'Gaze direction left Y',\n",
       "       'Gaze direction left Z', 'Gaze direction right X',\n",
       "       'Gaze direction right Y', 'Gaze direction right Z',\n",
       "       'Pupil diameter left', 'Pupil diameter right', 'Validity left',\n",
       "       'Validity right', 'Eye position left X (DACSmm)',\n",
       "       'Eye position left Y (DACSmm)', 'Eye position left Z (DACSmm)',\n",
       "       'Eye position right X (DACSmm)', 'Eye position right Y (DACSmm)',\n",
       "       'Eye position right Z (DACSmm)', 'Gaze point left X (DACSmm)',\n",
       "       'Gaze point left Y (DACSmm)', 'Gaze point right X (DACSmm)',\n",
       "       'Gaze point right Y (DACSmm)', 'Gaze point X (MCSnorm)',\n",
       "       'Gaze point Y (MCSnorm)', 'Gaze point left X (MCSnorm)',\n",
       "       'Gaze point left Y (MCSnorm)', 'Gaze point right X (MCSnorm)',\n",
       "       'Gaze point right Y (MCSnorm)', 'Presented Stimulus name',\n",
       "       'Presented Media name', 'Presented Media width',\n",
       "       'Presented Media height', 'Presented Media position X (DACSpx)',\n",
       "       'Presented Media position Y (DACSpx)', 'Original Media width',\n",
       "       'Original Media height', 'Eye movement type', 'Gaze event duration',\n",
       "       'Eye movement type index', 'Fixation point X', 'Fixation point Y',\n",
       "       'Fixation point X (MCSnorm)', 'Fixation point Y (MCSnorm)',\n",
       "       'Client area position X (DACSpx)', 'Client area position Y (DACSpx)',\n",
       "       'Viewport position X', 'Viewport position Y', 'Viewport width',\n",
       "       'Viewport height', 'Full page width', 'Full page height',\n",
       "       'Mouse position X', 'Mouse position Y'],\n",
       "      dtype='object')"
      ]
     },
     "execution_count": 7,
     "metadata": {},
     "output_type": "execute_result"
    }
   ],
   "source": [
    "dataset.columns"
   ]
  },
  {
   "cell_type": "code",
   "execution_count": 8,
   "metadata": {},
   "outputs": [
    {
     "data": {
      "text/html": [
       "<div>\n",
       "<style scoped>\n",
       "    .dataframe tbody tr th:only-of-type {\n",
       "        vertical-align: middle;\n",
       "    }\n",
       "\n",
       "    .dataframe tbody tr th {\n",
       "        vertical-align: top;\n",
       "    }\n",
       "\n",
       "    .dataframe thead th {\n",
       "        text-align: right;\n",
       "    }\n",
       "</style>\n",
       "<table border=\"1\" class=\"dataframe\">\n",
       "  <thead>\n",
       "    <tr style=\"text-align: right;\">\n",
       "      <th></th>\n",
       "      <th>Recording timestamp</th>\n",
       "      <th>Computer timestamp</th>\n",
       "      <th>Recording duration</th>\n",
       "      <th>Recording resolution height</th>\n",
       "      <th>Recording resolution width</th>\n",
       "      <th>Average calibration accuracy (mm)</th>\n",
       "      <th>Average calibration precision SD (mm)</th>\n",
       "      <th>Average calibration precision RMS (mm)</th>\n",
       "      <th>Average calibration accuracy (degrees)</th>\n",
       "      <th>Average calibration precision SD (degrees)</th>\n",
       "      <th>...</th>\n",
       "      <th>Client area position X (DACSpx)</th>\n",
       "      <th>Client area position Y (DACSpx)</th>\n",
       "      <th>Viewport position X</th>\n",
       "      <th>Viewport position Y</th>\n",
       "      <th>Viewport width</th>\n",
       "      <th>Viewport height</th>\n",
       "      <th>Full page width</th>\n",
       "      <th>Full page height</th>\n",
       "      <th>Mouse position X</th>\n",
       "      <th>Mouse position Y</th>\n",
       "    </tr>\n",
       "  </thead>\n",
       "  <tbody>\n",
       "    <tr>\n",
       "      <th>count</th>\n",
       "      <td>4.655600e+04</td>\n",
       "      <td>4.655600e+04</td>\n",
       "      <td>46556.000000</td>\n",
       "      <td>46556.0</td>\n",
       "      <td>46556.0</td>\n",
       "      <td>0.0</td>\n",
       "      <td>0.0</td>\n",
       "      <td>0.0</td>\n",
       "      <td>0.0</td>\n",
       "      <td>0.0</td>\n",
       "      <td>...</td>\n",
       "      <td>0.0</td>\n",
       "      <td>0.0</td>\n",
       "      <td>0.0</td>\n",
       "      <td>0.0</td>\n",
       "      <td>0.0</td>\n",
       "      <td>0.0</td>\n",
       "      <td>0.0</td>\n",
       "      <td>0.0</td>\n",
       "      <td>1654.000000</td>\n",
       "      <td>1654.000000</td>\n",
       "    </tr>\n",
       "    <tr>\n",
       "      <th>mean</th>\n",
       "      <td>8.414462e+07</td>\n",
       "      <td>5.153958e+11</td>\n",
       "      <td>168770.856152</td>\n",
       "      <td>1080.0</td>\n",
       "      <td>1920.0</td>\n",
       "      <td>NaN</td>\n",
       "      <td>NaN</td>\n",
       "      <td>NaN</td>\n",
       "      <td>NaN</td>\n",
       "      <td>NaN</td>\n",
       "      <td>...</td>\n",
       "      <td>NaN</td>\n",
       "      <td>NaN</td>\n",
       "      <td>NaN</td>\n",
       "      <td>NaN</td>\n",
       "      <td>NaN</td>\n",
       "      <td>NaN</td>\n",
       "      <td>NaN</td>\n",
       "      <td>NaN</td>\n",
       "      <td>-518.537485</td>\n",
       "      <td>715.688029</td>\n",
       "    </tr>\n",
       "    <tr>\n",
       "      <th>std</th>\n",
       "      <td>6.627837e+07</td>\n",
       "      <td>2.773626e+08</td>\n",
       "      <td>77515.446413</td>\n",
       "      <td>0.0</td>\n",
       "      <td>0.0</td>\n",
       "      <td>NaN</td>\n",
       "      <td>NaN</td>\n",
       "      <td>NaN</td>\n",
       "      <td>NaN</td>\n",
       "      <td>NaN</td>\n",
       "      <td>...</td>\n",
       "      <td>NaN</td>\n",
       "      <td>NaN</td>\n",
       "      <td>NaN</td>\n",
       "      <td>NaN</td>\n",
       "      <td>NaN</td>\n",
       "      <td>NaN</td>\n",
       "      <td>NaN</td>\n",
       "      <td>NaN</td>\n",
       "      <td>383.687069</td>\n",
       "      <td>245.076860</td>\n",
       "    </tr>\n",
       "    <tr>\n",
       "      <th>min</th>\n",
       "      <td>0.000000e+00</td>\n",
       "      <td>5.149741e+11</td>\n",
       "      <td>9943.000000</td>\n",
       "      <td>1080.0</td>\n",
       "      <td>1920.0</td>\n",
       "      <td>NaN</td>\n",
       "      <td>NaN</td>\n",
       "      <td>NaN</td>\n",
       "      <td>NaN</td>\n",
       "      <td>NaN</td>\n",
       "      <td>...</td>\n",
       "      <td>NaN</td>\n",
       "      <td>NaN</td>\n",
       "      <td>NaN</td>\n",
       "      <td>NaN</td>\n",
       "      <td>NaN</td>\n",
       "      <td>NaN</td>\n",
       "      <td>NaN</td>\n",
       "      <td>NaN</td>\n",
       "      <td>-1661.000000</td>\n",
       "      <td>-87.000000</td>\n",
       "    </tr>\n",
       "    <tr>\n",
       "      <th>25%</th>\n",
       "      <td>2.486522e+07</td>\n",
       "      <td>5.150674e+11</td>\n",
       "      <td>106276.000000</td>\n",
       "      <td>1080.0</td>\n",
       "      <td>1920.0</td>\n",
       "      <td>NaN</td>\n",
       "      <td>NaN</td>\n",
       "      <td>NaN</td>\n",
       "      <td>NaN</td>\n",
       "      <td>NaN</td>\n",
       "      <td>...</td>\n",
       "      <td>NaN</td>\n",
       "      <td>NaN</td>\n",
       "      <td>NaN</td>\n",
       "      <td>NaN</td>\n",
       "      <td>NaN</td>\n",
       "      <td>NaN</td>\n",
       "      <td>NaN</td>\n",
       "      <td>NaN</td>\n",
       "      <td>-679.250000</td>\n",
       "      <td>597.000000</td>\n",
       "    </tr>\n",
       "    <tr>\n",
       "      <th>50%</th>\n",
       "      <td>7.242148e+07</td>\n",
       "      <td>5.155387e+11</td>\n",
       "      <td>228445.000000</td>\n",
       "      <td>1080.0</td>\n",
       "      <td>1920.0</td>\n",
       "      <td>NaN</td>\n",
       "      <td>NaN</td>\n",
       "      <td>NaN</td>\n",
       "      <td>NaN</td>\n",
       "      <td>NaN</td>\n",
       "      <td>...</td>\n",
       "      <td>NaN</td>\n",
       "      <td>NaN</td>\n",
       "      <td>NaN</td>\n",
       "      <td>NaN</td>\n",
       "      <td>NaN</td>\n",
       "      <td>NaN</td>\n",
       "      <td>NaN</td>\n",
       "      <td>NaN</td>\n",
       "      <td>-499.500000</td>\n",
       "      <td>790.000000</td>\n",
       "    </tr>\n",
       "    <tr>\n",
       "      <th>75%</th>\n",
       "      <td>1.325493e+08</td>\n",
       "      <td>5.156345e+11</td>\n",
       "      <td>228445.000000</td>\n",
       "      <td>1080.0</td>\n",
       "      <td>1920.0</td>\n",
       "      <td>NaN</td>\n",
       "      <td>NaN</td>\n",
       "      <td>NaN</td>\n",
       "      <td>NaN</td>\n",
       "      <td>NaN</td>\n",
       "      <td>...</td>\n",
       "      <td>NaN</td>\n",
       "      <td>NaN</td>\n",
       "      <td>NaN</td>\n",
       "      <td>NaN</td>\n",
       "      <td>NaN</td>\n",
       "      <td>NaN</td>\n",
       "      <td>NaN</td>\n",
       "      <td>NaN</td>\n",
       "      <td>-429.000000</td>\n",
       "      <td>898.750000</td>\n",
       "    </tr>\n",
       "    <tr>\n",
       "      <th>max</th>\n",
       "      <td>2.284452e+08</td>\n",
       "      <td>5.157304e+11</td>\n",
       "      <td>228445.000000</td>\n",
       "      <td>1080.0</td>\n",
       "      <td>1920.0</td>\n",
       "      <td>NaN</td>\n",
       "      <td>NaN</td>\n",
       "      <td>NaN</td>\n",
       "      <td>NaN</td>\n",
       "      <td>NaN</td>\n",
       "      <td>...</td>\n",
       "      <td>NaN</td>\n",
       "      <td>NaN</td>\n",
       "      <td>NaN</td>\n",
       "      <td>NaN</td>\n",
       "      <td>NaN</td>\n",
       "      <td>NaN</td>\n",
       "      <td>NaN</td>\n",
       "      <td>NaN</td>\n",
       "      <td>854.000000</td>\n",
       "      <td>1107.000000</td>\n",
       "    </tr>\n",
       "  </tbody>\n",
       "</table>\n",
       "<p>8 rows × 50 columns</p>\n",
       "</div>"
      ],
      "text/plain": [
       "       Recording timestamp  Computer timestamp  Recording duration  \\\n",
       "count         4.655600e+04        4.655600e+04        46556.000000   \n",
       "mean          8.414462e+07        5.153958e+11       168770.856152   \n",
       "std           6.627837e+07        2.773626e+08        77515.446413   \n",
       "min           0.000000e+00        5.149741e+11         9943.000000   \n",
       "25%           2.486522e+07        5.150674e+11       106276.000000   \n",
       "50%           7.242148e+07        5.155387e+11       228445.000000   \n",
       "75%           1.325493e+08        5.156345e+11       228445.000000   \n",
       "max           2.284452e+08        5.157304e+11       228445.000000   \n",
       "\n",
       "       Recording resolution height  Recording resolution width  \\\n",
       "count                      46556.0                     46556.0   \n",
       "mean                        1080.0                      1920.0   \n",
       "std                            0.0                         0.0   \n",
       "min                         1080.0                      1920.0   \n",
       "25%                         1080.0                      1920.0   \n",
       "50%                         1080.0                      1920.0   \n",
       "75%                         1080.0                      1920.0   \n",
       "max                         1080.0                      1920.0   \n",
       "\n",
       "       Average calibration accuracy (mm)  \\\n",
       "count                                0.0   \n",
       "mean                                 NaN   \n",
       "std                                  NaN   \n",
       "min                                  NaN   \n",
       "25%                                  NaN   \n",
       "50%                                  NaN   \n",
       "75%                                  NaN   \n",
       "max                                  NaN   \n",
       "\n",
       "       Average calibration precision SD (mm)  \\\n",
       "count                                    0.0   \n",
       "mean                                     NaN   \n",
       "std                                      NaN   \n",
       "min                                      NaN   \n",
       "25%                                      NaN   \n",
       "50%                                      NaN   \n",
       "75%                                      NaN   \n",
       "max                                      NaN   \n",
       "\n",
       "       Average calibration precision RMS (mm)  \\\n",
       "count                                     0.0   \n",
       "mean                                      NaN   \n",
       "std                                       NaN   \n",
       "min                                       NaN   \n",
       "25%                                       NaN   \n",
       "50%                                       NaN   \n",
       "75%                                       NaN   \n",
       "max                                       NaN   \n",
       "\n",
       "       Average calibration accuracy (degrees)  \\\n",
       "count                                     0.0   \n",
       "mean                                      NaN   \n",
       "std                                       NaN   \n",
       "min                                       NaN   \n",
       "25%                                       NaN   \n",
       "50%                                       NaN   \n",
       "75%                                       NaN   \n",
       "max                                       NaN   \n",
       "\n",
       "       Average calibration precision SD (degrees)  ...  \\\n",
       "count                                         0.0  ...   \n",
       "mean                                          NaN  ...   \n",
       "std                                           NaN  ...   \n",
       "min                                           NaN  ...   \n",
       "25%                                           NaN  ...   \n",
       "50%                                           NaN  ...   \n",
       "75%                                           NaN  ...   \n",
       "max                                           NaN  ...   \n",
       "\n",
       "       Client area position X (DACSpx)  Client area position Y (DACSpx)  \\\n",
       "count                              0.0                              0.0   \n",
       "mean                               NaN                              NaN   \n",
       "std                                NaN                              NaN   \n",
       "min                                NaN                              NaN   \n",
       "25%                                NaN                              NaN   \n",
       "50%                                NaN                              NaN   \n",
       "75%                                NaN                              NaN   \n",
       "max                                NaN                              NaN   \n",
       "\n",
       "       Viewport position X  Viewport position Y  Viewport width  \\\n",
       "count                  0.0                  0.0             0.0   \n",
       "mean                   NaN                  NaN             NaN   \n",
       "std                    NaN                  NaN             NaN   \n",
       "min                    NaN                  NaN             NaN   \n",
       "25%                    NaN                  NaN             NaN   \n",
       "50%                    NaN                  NaN             NaN   \n",
       "75%                    NaN                  NaN             NaN   \n",
       "max                    NaN                  NaN             NaN   \n",
       "\n",
       "       Viewport height  Full page width  Full page height  Mouse position X  \\\n",
       "count              0.0              0.0               0.0       1654.000000   \n",
       "mean               NaN              NaN               NaN       -518.537485   \n",
       "std                NaN              NaN               NaN        383.687069   \n",
       "min                NaN              NaN               NaN      -1661.000000   \n",
       "25%                NaN              NaN               NaN       -679.250000   \n",
       "50%                NaN              NaN               NaN       -499.500000   \n",
       "75%                NaN              NaN               NaN       -429.000000   \n",
       "max                NaN              NaN               NaN        854.000000   \n",
       "\n",
       "       Mouse position Y  \n",
       "count       1654.000000  \n",
       "mean         715.688029  \n",
       "std          245.076860  \n",
       "min          -87.000000  \n",
       "25%          597.000000  \n",
       "50%          790.000000  \n",
       "75%          898.750000  \n",
       "max         1107.000000  \n",
       "\n",
       "[8 rows x 50 columns]"
      ]
     },
     "execution_count": 8,
     "metadata": {},
     "output_type": "execute_result"
    }
   ],
   "source": [
    "dataset.describe()"
   ]
  },
  {
   "cell_type": "markdown",
   "metadata": {},
   "source": [
    "New dataset"
   ]
  },
  {
   "cell_type": "code",
   "execution_count": 9,
   "metadata": {},
   "outputs": [
    {
     "data": {
      "text/html": [
       "<div>\n",
       "<style scoped>\n",
       "    .dataframe tbody tr th:only-of-type {\n",
       "        vertical-align: middle;\n",
       "    }\n",
       "\n",
       "    .dataframe tbody tr th {\n",
       "        vertical-align: top;\n",
       "    }\n",
       "\n",
       "    .dataframe thead th {\n",
       "        text-align: right;\n",
       "    }\n",
       "</style>\n",
       "<table border=\"1\" class=\"dataframe\">\n",
       "  <thead>\n",
       "    <tr style=\"text-align: right;\">\n",
       "      <th></th>\n",
       "      <th>Gaze point X</th>\n",
       "      <th>Gaze point Y</th>\n",
       "      <th>Eyetracker timestamp</th>\n",
       "    </tr>\n",
       "  </thead>\n",
       "  <tbody>\n",
       "    <tr>\n",
       "      <th>0</th>\n",
       "      <td>NaN</td>\n",
       "      <td>NaN</td>\n",
       "      <td>NaN</td>\n",
       "    </tr>\n",
       "    <tr>\n",
       "      <th>1</th>\n",
       "      <td>412.0</td>\n",
       "      <td>1037.0</td>\n",
       "      <td>468305885.0</td>\n",
       "    </tr>\n",
       "    <tr>\n",
       "      <th>2</th>\n",
       "      <td>NaN</td>\n",
       "      <td>NaN</td>\n",
       "      <td>468314193.0</td>\n",
       "    </tr>\n",
       "    <tr>\n",
       "      <th>3</th>\n",
       "      <td>305.0</td>\n",
       "      <td>1074.0</td>\n",
       "      <td>468322494.0</td>\n",
       "    </tr>\n",
       "    <tr>\n",
       "      <th>4</th>\n",
       "      <td>296.0</td>\n",
       "      <td>1071.0</td>\n",
       "      <td>468330861.0</td>\n",
       "    </tr>\n",
       "  </tbody>\n",
       "</table>\n",
       "</div>"
      ],
      "text/plain": [
       "   Gaze point X  Gaze point Y  Eyetracker timestamp\n",
       "0           NaN           NaN                   NaN\n",
       "1         412.0        1037.0           468305885.0\n",
       "2           NaN           NaN           468314193.0\n",
       "3         305.0        1074.0           468322494.0\n",
       "4         296.0        1071.0           468330861.0"
      ]
     },
     "execution_count": 9,
     "metadata": {},
     "output_type": "execute_result"
    }
   ],
   "source": [
    "# new_dataset = pandas.DataFrame(dataset['Gaze point X'], dataset['Gaze point Y'], dataset['Eyetracker timestamp'])\n",
    "new_dataset = dataset.filter([\"Gaze point X\", \"Gaze point Y\", \"Eyetracker timestamp\"])\n",
    "\n",
    "new_dataset.head()"
   ]
  },
  {
   "cell_type": "code",
   "execution_count": 10,
   "metadata": {},
   "outputs": [
    {
     "data": {
      "text/plain": [
       "(41174, 3)"
      ]
     },
     "execution_count": 10,
     "metadata": {},
     "output_type": "execute_result"
    }
   ],
   "source": [
    "# new_dataset = new_dataset.dropna()# dropping rows with one or more NaN values\n",
    "# new_dataset.dropna(inplace=True)# variable gets altered by function\n",
    "# new_dataset.dropna(how=\"all\") # dropping rows with just NaN values\n",
    "# new_dataset.dropna(how=\"all\", inplace=True)\n",
    "\n",
    "\n",
    "new_dataset.dropna(inplace=True)\n",
    "new_dataset.head()\n",
    "new_dataset.shape"
   ]
  },
  {
   "cell_type": "markdown",
   "metadata": {},
   "source": [
    "Plotting the new dataset"
   ]
  },
  {
   "cell_type": "code",
   "execution_count": 11,
   "metadata": {},
   "outputs": [
    {
     "data": {
      "text/plain": [
       "[<matplotlib.lines.Line2D at 0x7f0c0ae828f0>]"
      ]
     },
     "execution_count": 11,
     "metadata": {},
     "output_type": "execute_result"
    },
    {
     "data": {
      "image/png": "[encoded data removed]",
      "text/plain": [
       "<Figure size 640x480 with 1 Axes>"
      ]
     },
     "metadata": {},
     "output_type": "display_data"
    }
   ],
   "source": [
    "import matplotlib.pyplot as plt\n",
    "plt.plot(new_dataset.head(500)[\"Gaze point X\"], new_dataset.head(500)[\"Gaze point Y\"])"
   ]
  },
  {
   "cell_type": "markdown",
   "metadata": {},
   "source": [
    "Calculating eyespeed"
   ]
  },
  {
   "cell_type": "code",
   "execution_count": 12,
   "metadata": {},
   "outputs": [
    {
     "name": "stdout",
     "output_type": "stream",
     "text": [
      "Average eyespeed: 3.4529082296466735\n"
     ]
    }
   ],
   "source": [
    "import numpy as np\n",
    "# sum = 0\n",
    "# rows = 0\n",
    "# # v = s/t\n",
    "\n",
    "# old_x = 0\n",
    "# old_y = 0\n",
    "# old_timestamp = 0\n",
    "\n",
    "vx = []\n",
    "vy = []\n",
    "\n",
    "sx = np.diff(new_dataset['Gaze point X'])\n",
    "sy = np.diff(new_dataset['Gaze point Y'])\n",
    "time_diff = np.diff(new_dataset['Eyetracker timestamp'])\n",
    "\n",
    "for index, time in enumerate(time_diff):\n",
    "    vx.append(sx[index]/time)\n",
    "    vy.append(sy[index]/time)\n",
    "    \n",
    "# for index, row in new_dataset.iterrows():\n",
    "#     # print(index)\n",
    "    \n",
    "#     if index != 1:\n",
    "#         rows += 1\n",
    "        \n",
    "#         sum += (abs(int(row['Gaze point X']) - old_x)+(int(row['Gaze point Y'])-old_y))/(int(row['Eyetracker timestamp']) - old_timestamp)\n",
    "#         vx.append((int(row['Gaze point X']) - old_x)/(int(row['Eyetracker timestamp']) - old_timestamp))\n",
    "#         vy.append((int(row['Gaze point Y']) - old_y)/(int(row['Eyetracker timestamp']) - old_timestamp))\n",
    "#         old_x = int(row['Gaze point X'])\n",
    "#         old_y = int(row['Gaze point Y'])\n",
    "#         old_timestamp = int(row['Eyetracker timestamp'])\n",
    "        \n",
    "#     else:\n",
    "#         old_x = int(row['Gaze point X'])\n",
    "#         old_y = int(row['Gaze point Y'])\n",
    "#         old_timestamp = int(row['Eyetracker timestamp'])\n",
    "\n",
    "vs = np.sqrt(np.array(vx)**2 + np.array(vy)**2)\n",
    "average_speed = np.mean(vs)*1000\n",
    "print(\"Average eyespeed:\", average_speed)"
   ]
  },
  {
   "cell_type": "markdown",
   "metadata": {},
   "source": [
    "Eye speed histogram"
   ]
  },
  {
   "cell_type": "code",
   "execution_count": 13,
   "metadata": {},
   "outputs": [
    {
     "data": {
      "text/plain": [
       "(array([1.8085e+04, 8.4960e+03, 3.5320e+03, 2.4590e+03, 2.2140e+03,\n",
       "        1.7620e+03, 1.2810e+03, 9.2100e+02, 6.0300e+02, 4.7600e+02,\n",
       "        3.0800e+02, 2.3900e+02, 2.0000e+02, 1.1900e+02, 1.0800e+02,\n",
       "        7.8000e+01, 5.1000e+01, 4.1000e+01, 3.9000e+01, 3.2000e+01,\n",
       "        2.6000e+01, 1.6000e+01, 9.0000e+00, 9.0000e+00, 1.0000e+01,\n",
       "        6.0000e+00, 6.0000e+00, 5.0000e+00, 7.0000e+00, 4.0000e+00,\n",
       "        7.0000e+00, 3.0000e+00, 1.0000e+00, 7.0000e+00, 3.0000e+00,\n",
       "        1.0000e+00, 2.0000e+00, 0.0000e+00, 1.0000e+00, 2.0000e+00,\n",
       "        0.0000e+00, 2.0000e+00, 0.0000e+00, 0.0000e+00, 0.0000e+00,\n",
       "        1.0000e+00, 0.0000e+00, 0.0000e+00, 0.0000e+00, 1.0000e+00]),\n",
       " array([0.        , 0.00139886, 0.00279772, 0.00419658, 0.00559544,\n",
       "        0.0069943 , 0.00839316, 0.00979202, 0.01119088, 0.01258974,\n",
       "        0.0139886 , 0.01538746, 0.01678632, 0.01818518, 0.01958404,\n",
       "        0.0209829 , 0.02238176, 0.02378062, 0.02517947, 0.02657833,\n",
       "        0.02797719, 0.02937605, 0.03077491, 0.03217377, 0.03357263,\n",
       "        0.03497149, 0.03637035, 0.03776921, 0.03916807, 0.04056693,\n",
       "        0.04196579, 0.04336465, 0.04476351, 0.04616237, 0.04756123,\n",
       "        0.04896009, 0.05035895, 0.05175781, 0.05315667, 0.05455553,\n",
       "        0.05595439, 0.05735325, 0.05875211, 0.06015097, 0.06154983,\n",
       "        0.06294869, 0.06434755, 0.06574641, 0.06714527, 0.06854413,\n",
       "        0.06994299]),\n",
       " <BarContainer object of 50 artists>)"
      ]
     },
     "execution_count": 13,
     "metadata": {},
     "output_type": "execute_result"
    },
    {
     "data": {
      "image/png": "[encoded data removed]",
      "text/plain": [
       "<Figure size 640x480 with 1 Axes>"
      ]
     },
     "metadata": {},
     "output_type": "display_data"
    }
   ],
   "source": [
    "plt.hist(vs, 50)"
   ]
  },
  {
   "cell_type": "code",
   "execution_count": 17,
   "metadata": {},
   "outputs": [
    {
     "data": {
      "text/plain": [
       "[<matplotlib.lines.Line2D at 0x7f0c0aaeb0d0>]"
      ]
     },
     "execution_count": 17,
     "metadata": {},
     "output_type": "execute_result"
    },
    {
     "data": {
      "image/png": "[encoded data removed]",
      "text/plain": [
       "<Figure size 640x480 with 1 Axes>"
      ]
     },
     "metadata": {},
     "output_type": "display_data"
    }
   ],
   "source": [
    "plt.plot(vx, vy)"
   ]
  },
  {
   "cell_type": "markdown",
   "metadata": {},
   "source": [
    "The correlation between the speed of x and the speed of y and the auto-correlation of x"
   ]
  },
  {
   "cell_type": "code",
   "execution_count": 15,
   "metadata": {},
   "outputs": [
    {
     "name": "stdout",
     "output_type": "stream",
     "text": [
      "[[ 1.         -0.22780986]\n",
      " [-0.22780986  1.        ]]\n"
     ]
    }
   ],
   "source": [
    "# pd.corr(vx, vy)\n",
    "print(np.corrcoef(vx, vy)) # direction and speed as x or y grows by one"
   ]
  },
  {
   "cell_type": "code",
   "execution_count": 18,
   "metadata": {},
   "outputs": [
    {
     "name": "stdout",
     "output_type": "stream",
     "text": [
      "[[1.         0.47709311]\n",
      " [0.47709311 1.        ]]\n"
     ]
    }
   ],
   "source": [
    "print(np.corrcoef(np.abs(vx), np.abs(vy))) # the absolute growth as x or y grows by one"
   ]
  },
  {
   "cell_type": "code",
   "execution_count": 21,
   "metadata": {},
   "outputs": [
    {
     "data": {
      "text/plain": [
       "[<matplotlib.lines.Line2D at 0x7f0c0a053370>]"
      ]
     },
     "execution_count": 21,
     "metadata": {},
     "output_type": "execute_result"
    },
    {
     "data": {
      "image/png": "[encoded data removed]",
      "text/plain": [
       "<Figure size 640x480 with 1 Axes>"
      ]
     },
     "metadata": {},
     "output_type": "display_data"
    }
   ],
   "source": [
    "corr_vx = []\n",
    "for i in range(1,3):\n",
    "    corr_vx.append(np.corrcoef(vx[i:],vx[:-i])[1,0])\n",
    "plt.plot(corr_vx)"
   ]
  },
  {
   "cell_type": "code",
   "execution_count": null,
   "metadata": {},
   "outputs": [],
   "source": []
  }
 ],
 "metadata": {
  "kernelspec": {
   "display_name": "Python 3",
   "language": "python",
   "name": "python3"
  },
  "language_info": {
   "codemirror_mode": {
    "name": "ipython",
    "version": 3
   },
   "file_extension": ".py",
   "mimetype": "text/x-python",
   "name": "python",
   "nbconvert_exporter": "python",
   "pygments_lexer": "ipython3",
   "version": "3.10.12"
  },
  "orig_nbformat": 4
 },
 "nbformat": 4,
 "nbformat_minor": 2
}
