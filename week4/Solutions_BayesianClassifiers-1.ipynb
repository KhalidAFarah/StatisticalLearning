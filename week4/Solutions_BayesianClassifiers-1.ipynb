{
 "cells": [
  {
   "cell_type": "markdown",
   "metadata": {},
   "source": [
    "# Assignment\n",
    "## Some maths around bayesian classifiers\n",
    "### Possible solution by Pedro Lind, August 2020, Oslo"
   ]
  },
  {
   "cell_type": "markdown",
   "metadata": {},
   "source": [
    " (1) Prove that\n",
    "  \\begin{equation}\n",
    "    P(Y=k\\vert X=x) = \\frac{\\pi_k f_k(x)}{\\sum_{\\ell=1}^K\\pi_{\\ell} f_{\\ell}(x)}\\, ,\n",
    "  \\end{equation}\n",
    "  where $\\pi_k$ is the probability to observe class $k$ and\n",
    "  $f_{k}(x)=P(X=x\\vert Y=k)$."
   ]
  },
  {
   "cell_type": "markdown",
   "metadata": {},
   "source": [
    "$$P(A\\vert B) = \\frac{p(B\\vert A)P(A)}{P(B)}$$"
   ]
  },
  {
   "cell_type": "markdown",
   "metadata": {},
   "source": [
    "$$P(Y=k\\vert X=x) = \\frac{p(X=x\\vert Y=k)P(Y=k)}{P(X=x)}$$"
   ]
  },
  {
   "cell_type": "markdown",
   "metadata": {},
   "source": [
    "$$P(Y=k\\vert X=x) = \\frac{f_k(x)\\pi_k}{P(X=x)}$$"
   ]
  },
  {
   "cell_type": "markdown",
   "metadata": {},
   "source": [
    "$$P(\\hbox{rain now})=P(\\hbox{rain now}\\vert \\hbox{sun yesterday})P(\\hbox{sun yeaterday})+P(\\hbox{rain now}\\vert \\hbox{no sun yesterday})P(\\hbox{no sun yeaterday})$$"
   ]
  },
  {
   "cell_type": "markdown",
   "metadata": {},
   "source": [
    "$$P(X=x)  = \\sum_{\\ell=1}^K P(X=x\\vert Y=\\ell) P(Y=\\ell)  $$"
   ]
  },
  {
   "cell_type": "markdown",
   "metadata": {},
   "source": [
    "(2) Assume that the probability to make a certain observation $x$ of the\n",
    "  predictor within a specific class $k$ is Gaussian-distributed, i.e. \n",
    "  \\begin{equation}\n",
    "    f_k(x) = \\frac{1}{\\sqrt{2\\pi}\\sigma_k}\\exp{\\left ( -\\frac{(x-\\mu_k)^2}{2\\sigma_k^2} \\right )} \\, ,\n",
    "  \\end{equation}\n",
    "  with mean $\\mu_k$ and standard deviation $\\sigma_k$.\n",
    "  Prove that to maximize $P(Y=k\\vert X)$, choosing a specific class $k$, is equivalent to maximize\n",
    "  \\begin{equation}\n",
    "    \\delta_k(x) = -x^2\\frac{1}{2\\sigma_k^2}+x\\frac{\\mu_k}{\\sigma_k^2}-\\frac{\\mu_k^2}{2\\sigma_k^2}+\\log{\\left ( \\frac{\\pi_k}{\\sqrt{2\\pi}\\sigma_k} \\right )} \\, .\n",
    "    \\label{result}\n",
    "  \\end{equation}"
   ]
  },
  {
   "cell_type": "markdown",
   "metadata": {},
   "source": [
    "DERIVATION:\n",
    "\n",
    "\\begin{equation}\n",
    "    P(Y=k\\vert X=x) = \\frac{\\pi_k \\frac{1}{\\sqrt{2\\pi}\\sigma_k}\\exp{\\left ( -\\frac{(x-\\mu_k)^2}{2\\sigma_k^2} \\right )}}{\\sum_{\\ell=1}^K\\pi_{\\ell} \\frac{1}{\\sqrt{2\\pi}\\sigma_{\\ell}}\\exp{\\left ( -\\frac{(x-\\mu_{\\ell})^2}{2\\sigma_{\\ell}^2} \\right )}}  = \\frac{A}{B}\\, ,\n",
    "  \\end{equation}"
   ]
  },
  {
   "cell_type": "markdown",
   "metadata": {},
   "source": [
    "$$\\hbox{TemporaryFunc}_k = \\log{P(Y=k\\vert X=x)}=\\log{\\left ( \\pi_k \\frac{1}{\\sqrt{2\\pi}\\sigma_k}\\exp{\\left ( -\\frac{(x-\\mu_k)^2}{2\\sigma_k^2} \\right )}\\right )}-\\log{B}$$"
   ]
  },
  {
   "cell_type": "markdown",
   "metadata": {},
   "source": [
    "$$\\hbox{OtherTempFunc}_k = \\log{\\left ( \\pi_k \\frac{1}{\\sqrt{2\\pi}\\sigma_k}\\exp{\\left ( -\\frac{(x-\\mu_k)^2}{2\\sigma_k^2} \\right )}\\right )}$$"
   ]
  },
  {
   "cell_type": "markdown",
   "metadata": {},
   "source": [
    "$$\\hbox{OtherTempFunc}_k = \\log{\\left ( \\frac{\\pi_k}{\\sqrt{2\\pi}\\sigma_k} \\right )}+\\log{\\Big ( \\exp{\\left ( -\\frac{(x-\\mu_k)^2}{2\\sigma_k^2} \\right )} \\Big ) }$$"
   ]
  },
  {
   "cell_type": "markdown",
   "metadata": {},
   "source": [
    "$$\\hbox{OtherTempFunc}_k = \\log{\\left ( \\frac{\\pi_k}{\\sqrt{2\\pi}\\sigma_k} \\right )}-\\frac{(x-\\mu_k)^2}{2\\sigma_k^2}$$"
   ]
  },
  {
   "cell_type": "markdown",
   "metadata": {},
   "source": [
    "$$\\hbox{OtherTempFunc}_k = \\log{\\left ( \\frac{\\pi_k}{\\sqrt{2\\pi}\\sigma_k} \\right )}-x^2\\frac{1}{2\\sigma_k^2}+x\\frac{\\mu_k}{\\sigma_k^2}-\\frac{\\mu_k^2}{2\\sigma_k^2}$$"
   ]
  },
  {
   "cell_type": "markdown",
   "metadata": {},
   "source": [
    "$$\\hbox{OtherTempFunc}_k \\equiv \\delta_k(x) $$"
   ]
  },
  {
   "cell_type": "markdown",
   "metadata": {},
   "source": [
    "(3) The last equation is quadratic in $x$. When can you reduce it to a linear function, whose maximization yields the same result as the maximization of $P(Y=k\\vert X)$?"
   ]
  },
  {
   "cell_type": "markdown",
   "metadata": {},
   "source": [
    "DERIVATION:\n",
    "\n",
    "$$\\hbox{OtherTempFunc}_k = \\log{\\left ( \\frac{\\pi_k}{\\sqrt{2\\pi}\\sigma_k} \\right )}-x^2\\frac{1}{2\\sigma_k^2}+x\\frac{\\mu_k}{\\sigma_k^2}-\\frac{\\mu_k^2}{2\\sigma_k^2}$$"
   ]
  },
  {
   "cell_type": "markdown",
   "metadata": {},
   "source": [
    "The quadratic term must vanish"
   ]
  },
  {
   "cell_type": "markdown",
   "metadata": {},
   "source": [
    "I.e. it should be independent of the class (label $k$)"
   ]
  },
  {
   "cell_type": "markdown",
   "metadata": {},
   "source": [
    "So, $\\sigma_k \\equiv \\sigma$ for all $k$ "
   ]
  },
  {
   "cell_type": "markdown",
   "metadata": {},
   "source": [
    "$$\\hbox{OtherTempFunc}_k = x\\frac{\\mu_k}{\\sigma_k^2}-\\frac{\\mu_k^2}{2\\sigma_k^2} + \\log{\\left ( \\pi_k \\right )} - \\log{\\left ( \\sqrt{2\\pi}\\sigma \\right )}-x^2\\frac{1}{2\\sigma²}$$"
   ]
  },
  {
   "cell_type": "markdown",
   "metadata": {},
   "source": [
    "$$\\hbox{OtherTempFunc}_k = x\\frac{\\mu_k}{\\sigma_k^2}-\\frac{\\mu_k^2}{2\\sigma_k^2} + \\log{\\left ( \\pi_k \\right )} + \\hbox{UnnecessaryStuff}$$"
   ]
  },
  {
   "cell_type": "markdown",
   "metadata": {},
   "source": [
    "$$\\hbox{OtherTempFunc}_k = \\delta_k(x) + \\hbox{UnnecessaryStuff}$$"
   ]
  },
  {
   "cell_type": "code",
   "execution_count": null,
   "metadata": {},
   "outputs": [],
   "source": []
  }
 ],
 "metadata": {
  "kernelspec": {
   "display_name": "Python 3",
   "language": "python",
   "name": "python3"
  },
  "language_info": {
   "codemirror_mode": {
    "name": "ipython",
    "version": 3
   },
   "file_extension": ".py",
   "mimetype": "text/x-python",
   "name": "python",
   "nbconvert_exporter": "python",
   "pygments_lexer": "ipython3",
   "version": "3.8.10"
  }
 },
 "nbformat": 4,
 "nbformat_minor": 4
}
