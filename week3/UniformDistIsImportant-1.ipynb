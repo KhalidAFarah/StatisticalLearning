{
 "cells": [
  {
   "cell_type": "markdown",
   "metadata": {},
   "source": [
    "# Assignment: \n",
    "## The importance of uniformly distributed random numbers\n",
    "### A possible solution by Pedro Lind, Oslo, August 2020 "
   ]
  },
  {
   "cell_type": "code",
   "execution_count": 1,
   "metadata": {},
   "outputs": [],
   "source": [
    "import numpy as np\n",
    "import scipy\n",
    "import matplotlib.pylab as plt\n",
    "import random\n",
    "import math"
   ]
  },
  {
   "cell_type": "markdown",
   "metadata": {},
   "source": [
    "## 1. Generate a sample of $10^4$ random numbers for a variable $x$ uniformly distributed between $0$ and $1$."
   ]
  },
  {
   "cell_type": "markdown",
   "metadata": {},
   "source": [
    "Generate vector with $N=10^4$ random numbers uniformly distributed between 0 and 1"
   ]
  },
  {
   "cell_type": "code",
   "execution_count": 2,
   "metadata": {},
   "outputs": [],
   "source": [
    "N = 10000\n",
    "randnumbersvec = []\n",
    "for ii in range(N):\n",
    "    xx = random.uniform(0.,1.)\n",
    "    randnumbersvec.append(xx)"
   ]
  },
  {
   "cell_type": "markdown",
   "metadata": {},
   "source": [
    "Plot the histogram"
   ]
  },
  {
   "cell_type": "code",
   "execution_count": 3,
   "metadata": {},
   "outputs": [
    {
     "data": {
      "image/png": "[encoded data removed]",
      "text/plain": [
       "<Figure size 432x288 with 1 Axes>"
      ]
     },
     "metadata": {
      "needs_background": "light"
     },
     "output_type": "display_data"
    }
   ],
   "source": [
    "plt.hist(randnumbersvec,bins=20) \n",
    "plt.show()"
   ]
  },
  {
   "cell_type": "markdown",
   "metadata": {},
   "source": [
    "Plot the histogram (alternative):"
   ]
  },
  {
   "cell_type": "code",
   "execution_count": 4,
   "metadata": {},
   "outputs": [
    {
     "name": "stdout",
     "output_type": "stream",
     "text": [
      "(array([1.30473265e-05, 5.00047134e-02, 9.99963794e-02, 1.49988045e-01,\n",
      "       1.99979712e-01, 2.49971378e-01, 2.99963044e-01, 3.49954710e-01,\n",
      "       3.99946376e-01, 4.49938042e-01, 4.99929708e-01, 5.49921374e-01,\n",
      "       5.99913040e-01, 6.49904706e-01, 6.99896372e-01, 7.49888038e-01,\n",
      "       7.99879704e-01, 8.49871370e-01, 8.99863036e-01, 9.49854702e-01,\n",
      "       9.99846368e-01]), array([1.03017171, 1.00616771, 0.98816471, 0.97616271, 0.97016171,\n",
      "       1.02417071, 0.94815804, 1.06017671, 0.9281547 , 1.02417071,\n",
      "       0.92615437, 0.97816304, 1.01816971, 0.98416404, 0.99616604,\n",
      "       0.99016504, 0.99416571, 1.08618104, 1.02617104, 1.04817471]))\n",
      "(array([0.        , 0.02500888, 0.07500055, 0.12499221, 0.17498388,\n",
      "       0.22497554, 0.27496721, 0.32495888, 0.37495054, 0.42494221,\n",
      "       0.47493387, 0.52492554, 0.57491721, 0.62490887, 0.67490054,\n",
      "       0.7248922 , 0.77488387, 0.82487554, 0.8748672 , 0.92485887,\n",
      "       0.97485054, 0.99984637]), array([0.        , 1.03017171, 1.00616771, 0.98816471, 0.97616271,\n",
      "       0.97016171, 1.02417071, 0.94815804, 1.06017671, 0.9281547 ,\n",
      "       1.02417071, 0.92615437, 0.97816304, 1.01816971, 0.98416404,\n",
      "       0.99616604, 0.99016504, 0.99416571, 1.08618104, 1.02617104,\n",
      "       1.04817471, 0.        ]))\n"
     ]
    },
    {
     "data": {
      "text/plain": [
       "[<matplotlib.lines.Line2D at 0x7f58e43b0610>]"
      ]
     },
     "execution_count": 4,
     "metadata": {},
     "output_type": "execute_result"
    },
    {
     "data": {
      "image/png": "[encoded data removed]",
      "text/plain": [
       "<Figure size 432x288 with 1 Axes>"
      ]
     },
     "metadata": {
      "needs_background": "light"
     },
     "output_type": "display_data"
    }
   ],
   "source": [
    "hist, bin_edges = np.histogram(randnumbersvec, bins=20, range=None, normed=None, weights=None, density=True)\n",
    "bin_mids = np.zeros(len(hist)+2)\n",
    "new_hist = np.zeros(len(hist)+2)\n",
    "for ii in range(len(hist)):\n",
    "    bin_mids[ii+1]=0.5*(bin_edges[ii+1]+bin_edges[ii])\n",
    "    new_hist[ii+1]=hist[ii]\n",
    "bin_mids[len(hist)+1]=bin_edges[len(hist)]\n",
    "new_hist[len(hist)+1]=0.\n",
    "print(bin_edges,hist)\n",
    "print(bin_mids,new_hist)\n",
    "plt.plot(bin_mids,new_hist)"
   ]
  },
  {
   "cell_type": "markdown",
   "metadata": {},
   "source": [
    "## 2. Implement cumulative density function $F_u(u)$"
   ]
  },
  {
   "cell_type": "markdown",
   "metadata": {},
   "source": [
    "Derive the explicit expression of \n",
    "  \\begin{equation}\n",
    "    F_u(u) = \\int_{0}^u \\rho(w)dw \\, ,\n",
    "  \\end{equation}\n",
    "  where $\\rho(w)$ is an estimate of the probabilty density function in the previous plot."
   ]
  },
  {
   "cell_type": "markdown",
   "metadata": {},
   "source": [
    "<b>Answer:</b> $F_u(u)=u$"
   ]
  },
  {
   "cell_type": "markdown",
   "metadata": {},
   "source": [
    "Implement $F_u(u)$"
   ]
  },
  {
   "cell_type": "code",
   "execution_count": 5,
   "metadata": {},
   "outputs": [
    {
     "data": {
      "text/plain": [
       "[<matplotlib.lines.Line2D at 0x7f58a6e38750>]"
      ]
     },
     "execution_count": 5,
     "metadata": {},
     "output_type": "execute_result"
    },
    {
     "data": {
      "image/png": "[encoded data removed]",
      "text/plain": [
       "<Figure size 432x288 with 1 Axes>"
      ]
     },
     "metadata": {
      "needs_background": "light"
     },
     "output_type": "display_data"
    }
   ],
   "source": [
    "cumul_hist = np.zeros(len(hist)+2)\n",
    "norm = sum(hist)\n",
    "for ii in range(len(hist)):\n",
    "    cumul_hist[ii+1]=cumul_hist[ii]+hist[ii]/float(norm)\n",
    "cumul_hist[len(hist)+1] = 1.\n",
    "plt.plot(bin_mids,cumul_hist)"
   ]
  },
  {
   "cell_type": "code",
   "execution_count": null,
   "metadata": {},
   "outputs": [],
   "source": [
    "cumul_hist"
   ]
  },
  {
   "cell_type": "markdown",
   "metadata": {},
   "source": [
    "## 3. From uniform distribution to the exponential distribution"
   ]
  },
  {
   "cell_type": "markdown",
   "metadata": {},
   "source": [
    "Consider another probability density function, namely \n",
    "$$\\rho_e(x)=\\exp{(-x)}$$ \n",
    "with $x\\in [0,\\infty)$ (exponential distribution)."
   ]
  },
  {
   "cell_type": "markdown",
   "metadata": {},
   "source": [
    "Derive the explicit expression of\n",
    "  \\begin{equation}\n",
    "    F_e(x) = \\int_{0}^x \\rho_e(y)dy \\, .\n",
    "    \\label{exponential}\n",
    "  \\end{equation}"
   ]
  },
  {
   "cell_type": "markdown",
   "metadata": {},
   "source": [
    "<b>Answer:</b> $F_e(x)=1-\\exp{(-x)}$"
   ]
  },
  {
   "cell_type": "markdown",
   "metadata": {},
   "source": [
    "To change from uniformly distributed numbers $u$ to exponentially distributed numbers $x$, you should impose that $F_u(u)=F_e(x)$ and solve it with respect to $x$:\n",
    "$$x = -\\log{(1-u)}$$\n",
    "Implementing this yields:"
   ]
  },
  {
   "cell_type": "code",
   "execution_count": 6,
   "metadata": {},
   "outputs": [
    {
     "data": {
      "image/png": "[encoded data removed]",
      "text/plain": [
       "<Figure size 432x288 with 1 Axes>"
      ]
     },
     "metadata": {
      "needs_background": "light"
     },
     "output_type": "display_data"
    }
   ],
   "source": [
    "newexprandom = []\n",
    "for ii in range(len(randnumbersvec)):\n",
    "    newnumber = -np.log(1-randnumbersvec[ii])\n",
    "    newexprandom.append(newnumber)\n",
    "plt.hist(newexprandom,bins=20) \n",
    "plt.show()"
   ]
  },
  {
   "cell_type": "markdown",
   "metadata": {},
   "source": [
    "## From uniform distribution to the normal (Gaussian) distribution"
   ]
  },
  {
   "cell_type": "markdown",
   "metadata": {},
   "source": [
    "This method is called Box-Muller algorithm."
   ]
  },
  {
   "cell_type": "markdown",
   "metadata": {},
   "source": [
    "We consider two independent random variables, $x$ and $y$, which are normal distributed, i.e.~they are Gaussian distributed with zero mean and unit variance:\n",
    "\\begin{aligned}\n",
    "\\rho_g(x) &=& \\frac{1}{\\sqrt{2\\pi}}\\exp{(-x^2/2)} \\, , \\cr\n",
    "\\rho_g(y) &=& \\frac{1}{\\sqrt{2\\pi}}\\exp{(-y^2/2)} \\, . \\nonumber\n",
    "\\end{aligned}\n",
    "Their associated joint distribution reads\n",
    "\\begin{equation}\n",
    "\\rho_{gg}(x,y) = \\frac{1}{2\\pi}\\exp{\\left (-\\frac{x^2+y^2}{2} \\right )} \\, ,\n",
    "\\end{equation}\n",
    "which has a two-variable cumulative density function:\n",
    "\\begin{equation}\n",
    "F_{gg}(x,y) = \\int_{-\\infty}^x\\int_{-\\infty}^y  \\frac{1}{2\\pi} \\exp{\\left (-\\frac{w^2+z^2}{2} \\right )} dwdz\\, .\n",
    "\\end{equation}\n",
    "\n",
    "Applying polar coordinates, $x=r\\cos{\\theta}$ and $y=r\\sin{\\theta}$, yields\n",
    "\\begin{aligned}\n",
    "F_{gg}(x,y) &= \\int_{-\\infty}^x\\int_{-\\infty}^y  \\frac{1}{2\\pi} \\exp{\\left (-\\frac{w^2+z^2}{2} \\right )} dwdz \\cr\n",
    "            &= \\int_{0}^{2\\pi} d\\theta \\int_{0}^r \n",
    "               \\left \\vert \\frac{\\partial(x,y)}{\\partial(r^{\\prime},\\theta)} \\right \\vert\n",
    "               \\frac{1}{2\\pi} \\exp{\\left (-\\frac{(r^{\\prime})^2}{2} \\right )} dr^{\\prime} \\cr\n",
    "            &= \\int_{0}^r \n",
    "               r^{\\prime} \n",
    "               \\exp{\\left (-\\frac{(r^{\\prime})^2}{2} \\right )} dr^{\\prime} \\cr\n",
    "            &= 1-\\exp{\\left (  -\\frac{r^2}{2}  \\right )}  \\equiv F_G(r) \\nonumber \\, .\n",
    "\\end{aligned}"
   ]
  },
  {
   "cell_type": "markdown",
   "metadata": {},
   "source": [
    "Imposing now $F_G(r)=F_u(u)$ yields\n",
    "\\begin{equation}\n",
    "r=\\sqrt{-2\\log{(1-u)}} \\, ,\n",
    "\\end{equation}\n",
    "where $u$ is the random number betwee 0 and 1."
   ]
  },
  {
   "cell_type": "markdown",
   "metadata": {},
   "source": [
    "Hence, the two gaussian variables can now be defined as\n",
    "\\begin{align}\n",
    "   x &=& \\sqrt{-2\\log{(1-u_1)}} \\cos{(2\\pi u_2)}  \\cr\n",
    "   y &=& \\sqrt{-2\\log{(1-u_1)}} \\sin{(2\\pi u_2)}  \\nonumber \\, ,\n",
    "\\end{align}\n",
    "where we consider that $u_1$ and $u_2$ are two <i>independent</i> uniformly distributed random variables\n",
    "with values between 0 and 1.\n",
    "\n",
    "<b>Note:</b> The introduction of a second uniformly distributed variable is to account for the variable\n",
    "$\\theta$ that is a free parameter in our algorithm."
   ]
  },
  {
   "cell_type": "markdown",
   "metadata": {},
   "source": [
    "<b>Implementation:</b>"
   ]
  },
  {
   "cell_type": "code",
   "execution_count": 7,
   "metadata": {},
   "outputs": [
    {
     "data": {
      "image/png": "[encoded data removed]",
      "text/plain": [
       "<Figure size 432x288 with 1 Axes>"
      ]
     },
     "metadata": {
      "needs_background": "light"
     },
     "output_type": "display_data"
    },
    {
     "data": {
      "image/png": "[encoded data removed]",
      "text/plain": [
       "<Figure size 432x288 with 1 Axes>"
      ]
     },
     "metadata": {
      "needs_background": "light"
     },
     "output_type": "display_data"
    }
   ],
   "source": [
    "randnumbersvec2 = []\n",
    "for ii in range(N):\n",
    "    xx = random.uniform(0.,1.)\n",
    "    randnumbersvec2.append(xx)\n",
    "gauss1 = []\n",
    "gauss2 = []\n",
    "for ii in range(N):\n",
    "    newnumber1 = np.sqrt(-2.*np.log(1-randnumbersvec[ii]))*math.cos(2.*math.pi*randnumbersvec2[ii])\n",
    "    gauss1.append(newnumber1)\n",
    "    newnumber2 = np.sqrt(-2.*np.log(1-randnumbersvec[ii]))*math.sin(2.*math.pi*randnumbersvec2[ii])\n",
    "    gauss2.append(newnumber2)\n",
    "plt.hist(gauss1,bins=20) \n",
    "plt.show()\n",
    "plt.hist(gauss2,bins=20) \n",
    "plt.show()"
   ]
  },
  {
   "cell_type": "code",
   "execution_count": null,
   "metadata": {},
   "outputs": [],
   "source": []
  },
  {
   "cell_type": "code",
   "execution_count": null,
   "metadata": {},
   "outputs": [],
   "source": []
  },
  {
   "cell_type": "code",
   "execution_count": null,
   "metadata": {},
   "outputs": [],
   "source": []
  }
 ],
 "metadata": {
  "kernelspec": {
   "display_name": "Python 2",
   "language": "python",
   "name": "python2"
  },
  "language_info": {
   "codemirror_mode": {
    "name": "ipython",
    "version": 3
   },
   "file_extension": ".py",
   "mimetype": "text/x-python",
   "name": "python",
   "nbconvert_exporter": "python",
   "pygments_lexer": "ipython3",
   "version": "3.8.10"
  }
 },
 "nbformat": 4,
 "nbformat_minor": 2
}
