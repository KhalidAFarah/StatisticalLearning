{
 "cells": [
  {
   "cell_type": "code",
   "execution_count": 1,
   "metadata": {},
   "outputs": [],
   "source": [
    "import numpy as np\n",
    "import random\n",
    "import matplotlib.pyplot as pl"
   ]
  },
  {
   "cell_type": "code",
   "execution_count": 3,
   "metadata": {},
   "outputs": [],
   "source": [
    "# Accuracy\n",
    "ipl = 3\n",
    "threshold = 10**(-ipl) # 0.001, note we're getting a 99.9 percent accurate answer."
   ]
  },
  {
   "cell_type": "code",
   "execution_count": 4,
   "metadata": {},
   "outputs": [],
   "source": [
    "# Initial values\n",
    "difference = 4.0\n",
    "yes = 0.0\n",
    "count = 0.0"
   ]
  },
  {
   "cell_type": "code",
   "execution_count": 5,
   "metadata": {},
   "outputs": [
    {
     "name": "stdout",
     "output_type": "stream",
     "text": [
      "The estimated value of PI is 3.1406987724268176\n"
     ]
    }
   ],
   "source": [
    "# Important note, uniform distributions gives a distribution of random points in a square rather than regions where the points are focused. \n",
    "#Monte Carlo\n",
    "while difference > threshold:\n",
    "    xx = random.uniform(-1.0, 1.0) # [-1, 1]\n",
    "    yy = random.uniform(-1.0, 1.0) # [-1, 1]\n",
    "    \n",
    "    if xx*xx + yy*yy < 1: # x^2 + y^2 < 1\n",
    "        yes += 1.0\n",
    "    count += 1.0\n",
    "    estimate_pi = np.float64(4.0)*np.float64(yes)/np.float64(count)\n",
    "    difference = abs(estimate_pi - np.pi)\n",
    "    \n",
    "print(f\"The estimated value of PI is {np.float64(estimate_pi)}\")\n",
    "    "
   ]
  },
  {
   "cell_type": "code",
   "execution_count": 6,
   "metadata": {},
   "outputs": [
    {
     "name": "stdout",
     "output_type": "stream",
     "text": [
      "The estimated value of PI is 3.2000000000 with the threshold of 0.1000000000\n",
      "The estimated value of PI is 3.1428571429 with the threshold of 0.0100000000\n",
      "The estimated value of PI is 3.1407407407 with the threshold of 0.0010000000\n",
      "The estimated value of PI is 3.1415094340 with the threshold of 0.0001000000\n",
      "The estimated value of PI is 3.1415961218 with the threshold of 0.0000100000\n",
      "The estimated value of PI is 3.1415917327 with the threshold of 0.0000010000\n"
     ]
    },
    {
     "name": "stdout",
     "output_type": "stream",
     "text": [
      "The estimated value of PI is 3.1415926638 with the threshold of 0.0000001000\n",
      "The estimated value of PI is 3.1415926439 with the threshold of 0.0000000100\n",
      "The estimated value of PI is 3.1415926530 with the threshold of 0.0000000010\n"
     ]
    },
    {
     "data": {
      "image/png": "[encoded data removed]",
      "text/plain": [
       "<Figure size 640x480 with 1 Axes>"
      ]
     },
     "metadata": {},
     "output_type": "display_data"
    }
   ],
   "source": [
    "# Estimating to the nth value\n",
    "N = 10\n",
    "iterations = []\n",
    "nth = []\n",
    "for ipl in range(1, N):\n",
    "    nth.append(np.float64(ipl))\n",
    "    # Accuracy\n",
    "    threshold = 10**(-ipl)\n",
    "    \n",
    "    # Initial values\n",
    "    difference = 4.0\n",
    "    yes = 0.0\n",
    "    count = 0.0\n",
    "    \n",
    "    # Monte Carlo\n",
    "    while difference > threshold:\n",
    "        xx = random.uniform(-1.0, 1.0) # [-1, 1]\n",
    "        yy = random.uniform(-1.0, 1.0) # [-1, 1]\n",
    "        \n",
    "        if xx**2 + yy**2 < 1: # x^2 + y^2 < 1\n",
    "            yes += 1.0\n",
    "        count += 1.0\n",
    "        estimate_pi = np.float64(4.0)*np.float64(yes)/np.float64(count)\n",
    "        difference = abs(estimate_pi - np.pi)\n",
    "        \n",
    "    \n",
    "    iterations.append(np.float64(count))\n",
    "    \n",
    "    print(\"The estimated value of PI is %0.10f with the threshold of %0.10f\" % (np.float64(estimate_pi), np.float64(threshold)))\n",
    "\n",
    "# Plotting the number of iterations for the each increasing decimal threshold\n",
    "pl.plot(nth, iterations)\n",
    "pl.xlabel(\"nth decimal threshold\")\n",
    "pl.xlabel(\"number of iterations\")\n",
    "pl.show()"
   ]
  }
 ],
 "metadata": {
  "kernelspec": {
   "display_name": "Python 3",
   "language": "python",
   "name": "python3"
  },
  "language_info": {
   "codemirror_mode": {
    "name": "ipython",
    "version": 3
   },
   "file_extension": ".py",
   "mimetype": "text/x-python",
   "name": "python",
   "nbconvert_exporter": "python",
   "pygments_lexer": "ipython3",
   "version": "3.10.12"
  },
  "orig_nbformat": 4
 },
 "nbformat": 4,
 "nbformat_minor": 2
}
