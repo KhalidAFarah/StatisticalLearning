{
 "cells": [
  {
   "cell_type": "markdown",
   "metadata": {},
   "source": [
    "# Assignment: \n",
    "## Estimate the value of $\\pi$\n",
    "### a possible solution by P. Lind, Oslo August 2020\n",
    "\n",
    "\n",
    "## Background: How to use a Monte Carlo method for estimating $\\pi$\n",
    "\n",
    "One of the possible \"definitions\" of $\\pi$ is by using the concept of area $A$ and radius $r$ of a circle. Since for every circle $A=\\pi r^2$, if we choose the unitary circle ($r=1$) and <i> have a way to estimate </i> $A\\sim \\tilde{A}$ then we estimate $\\pi$ as\n",
    "\\begin{equation}\n",
    "\\tilde{\\pi} = \\frac{\\tilde{A}}{r^2} \\, .\n",
    "\\end{equation}\n",
    "  \n",
    "To estimate $A$, we will plot points randomly over a square, centered in the origin and with side equal to $2$. The unitary circle is then just inscribed in the square. Since\n",
    "\\begin{equation}\n",
    "\\frac{A(\\hbox{circle})}{A(\\hbox{square})} = \\frac{\\pi}{4} \\sim \\frac{\\hbox{# points in circle}}{\\hbox{# points in square}} \\, ,\n",
    "\\end{equation}\n",
    "we estimate $\\pi$ as\n",
    "\\begin{equation}\n",
    "\\tilde{\\pi} = 4 \\frac{\\hbox{# points in circle}}{\\hbox{# points in square}} \\, .\n",
    "\\end{equation}"
   ]
  },
  {
   "cell_type": "markdown",
   "metadata": {},
   "source": [
    "## 1. Compute the value of $\\pi$ using a Monte Carlo method."
   ]
  },
  {
   "cell_type": "code",
   "execution_count": 1,
   "metadata": {},
   "outputs": [],
   "source": [
    "import numpy as np\n",
    "import scipy.special as scsp\n",
    "import random\n",
    "import matplotlib.pyplot as pl"
   ]
  },
  {
   "cell_type": "markdown",
   "metadata": {},
   "source": [
    "Choose accuracy:"
   ]
  },
  {
   "cell_type": "code",
   "execution_count": 2,
   "metadata": {},
   "outputs": [],
   "source": [
    "ipl = 3\n",
    "threshold = 10**(-ipl)"
   ]
  },
  {
   "cell_type": "markdown",
   "metadata": {},
   "source": [
    "Initialization:"
   ]
  },
  {
   "cell_type": "code",
   "execution_count": 3,
   "metadata": {},
   "outputs": [],
   "source": [
    "difference = 4.0  #>pi\n",
    "yes = 0.\n",
    "count = 0."
   ]
  },
  {
   "cell_type": "markdown",
   "metadata": {},
   "source": [
    "Start Monte Carlo:"
   ]
  },
  {
   "cell_type": "code",
   "execution_count": 4,
   "metadata": {},
   "outputs": [],
   "source": [
    "while(difference>threshold):\n",
    "    xx = random.uniform(0.,1.)\n",
    "    yy = random.uniform(0.,1.)\n",
    "    if(xx*xx+yy*yy<1):\n",
    "        yes += 1.\n",
    "    count += 1.\n",
    "    #ourpi = 4.*np.float64(yes)/np.float64(count)\n",
    "    ourpi = np.float64(4.)*np.float64(yes)/np.float64(count)\n",
    "    #print(ourpi)\n",
    "    difference = abs(ourpi-np.pi)"
   ]
  },
  {
   "cell_type": "markdown",
   "metadata": {},
   "source": [
    "Print out result:"
   ]
  },
  {
   "cell_type": "code",
   "execution_count": 5,
   "metadata": {},
   "outputs": [
    {
     "name": "stdout",
     "output_type": "stream",
     "text": [
      "The estimate of pi is 3.1407407407\n"
     ]
    }
   ],
   "source": [
    "print(\"The estimate of pi is %.10f\" % (np.float64(ourpi)))"
   ]
  },
  {
   "cell_type": "markdown",
   "metadata": {},
   "source": [
    "## 2. How many random values do you need for achieving a precision up to the $n$th decimal place? Plot your result."
   ]
  },
  {
   "cell_type": "markdown",
   "metadata": {},
   "source": [
    "Repeat 1. but now in a for loop, save each result as arrays and print out results"
   ]
  },
  {
   "cell_type": "code",
   "execution_count": 6,
   "metadata": {},
   "outputs": [
    {
     "name": "stdout",
     "output_type": "stream",
     "text": [
      "With threshold of 0.1000000000 we have pi = 3.1111111111\n",
      "With threshold of 0.0100000000 we have pi = 3.1428571429\n",
      "With threshold of 0.0010000000 we have pi = 3.1411042945\n",
      "With threshold of 0.0001000000 we have pi = 3.1415094340\n",
      "With threshold of 0.0000100000 we have pi = 3.1416007036\n",
      "With threshold of 0.0000010000 we have pi = 3.1415918164\n",
      "With threshold of 0.0000001000 we have pi = 3.1415926633\n",
      "With threshold of 0.0000000100 we have pi = 3.1415926578\n",
      "With threshold of 0.0000000010 we have pi = 3.1415926537\n"
     ]
    }
   ],
   "source": [
    "xxval = []\n",
    "yyval = []\n",
    "for ipl in range(1,10):\n",
    "    threshold = 10**(-ipl)\n",
    "    difference=4.0\n",
    "    yes = 0.\n",
    "    count = 0.\n",
    "    while(difference>threshold):\n",
    "        xx = random.uniform(0.,1.)\n",
    "        yy = random.uniform(0.,1.)\n",
    "        if(xx*xx+yy*yy<1):\n",
    "            yes += 1.\n",
    "        count += 1.\n",
    "        #ourpi = 4.*np.float64(yes)/np.float64(count)\n",
    "        ourpi = np.float64(4.)*np.float64(yes)/np.float64(count)\n",
    "        #print(ourpi)\n",
    "        difference = abs(ourpi-np.pi)\n",
    "    print(\"With threshold of %.10f we have pi = %.10f\" % (np.float64(threshold),np.float64(ourpi)))\n",
    "    xxval.append(np.float64(ipl))\n",
    "    yyval.append(np.float64(count))"
   ]
  },
  {
   "cell_type": "markdown",
   "metadata": {},
   "source": [
    "Plot result"
   ]
  },
  {
   "cell_type": "code",
   "execution_count": 7,
   "metadata": {},
   "outputs": [
    {
     "data": {
      "image/png": "[encoded data removed]",
      "text/plain": [
       "<Figure size 432x288 with 1 Axes>"
      ]
     },
     "metadata": {
      "needs_background": "light"
     },
     "output_type": "display_data"
    }
   ],
   "source": [
    "pl.plot(xxval,yyval)\n",
    "pl.xlabel(\"n in threshold 10^(-n)\")\n",
    "pl.ylabel(\"Number of iterations\")\n",
    "pl.show()"
   ]
  },
  {
   "cell_type": "code",
   "execution_count": null,
   "metadata": {},
   "outputs": [],
   "source": []
  }
 ],
 "metadata": {
  "kernelspec": {
   "display_name": "Python 2",
   "language": "python",
   "name": "python2"
  },
  "language_info": {
   "codemirror_mode": {
    "name": "ipython",
    "version": 3
   },
   "file_extension": ".py",
   "mimetype": "text/x-python",
   "name": "python",
   "nbconvert_exporter": "python",
   "pygments_lexer": "ipython3",
   "version": "3.8.10"
  }
 },
 "nbformat": 4,
 "nbformat_minor": 2
}
